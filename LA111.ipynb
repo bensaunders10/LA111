{
 "cells": [
  {
   "cell_type": "code",
   "execution_count": 1,
   "metadata": {
    "scrolled": false
   },
   "outputs": [
    {
     "ename": "ModuleNotFoundError",
     "evalue": "No module named 'pandas'",
     "output_type": "error",
     "traceback": [
      "\u001b[0;31m---------------------------------------------------------------------------\u001b[0m",
      "\u001b[0;31mModuleNotFoundError\u001b[0m                       Traceback (most recent call last)",
      "Cell \u001b[0;32mIn [1], line 7\u001b[0m\n\u001b[1;32m      1\u001b[0m \u001b[39m# DMRB LA111 Processing Tool instructions\u001b[39;00m\n\u001b[1;32m      2\u001b[0m \u001b[39m# 1. Copy building evaluation data into the template (with facade correction and TRL correction for night time)\u001b[39;00m\n\u001b[1;32m      3\u001b[0m \u001b[39m# 2. Put the template into the 'Input' folder\u001b[39;00m\n\u001b[1;32m      4\u001b[0m \u001b[39m# 3. Load the notebook and press 'Run' on the top bar with the cell highlighted. \u001b[39;00m\n\u001b[1;32m      5\u001b[0m \n\u001b[1;32m      6\u001b[0m \u001b[39m# Importing DMRB module:\u001b[39;00m\n\u001b[0;32m----> 7\u001b[0m \u001b[39mimport\u001b[39;00m \u001b[39mDMRBModule\u001b[39;00m \u001b[39mas\u001b[39;00m \u001b[39mDMRB\u001b[39;00m\n\u001b[1;32m      9\u001b[0m \u001b[39m# Calling 'Main' function with parameters: input locaiton, output location, day and night LOAEL & SOAEL criteria:\u001b[39;00m\n\u001b[1;32m     10\u001b[0m DMRB\u001b[39m.\u001b[39mMain(\u001b[39m'\u001b[39m\u001b[39mInput/\u001b[39m\u001b[39m'\u001b[39m, \u001b[39m'\u001b[39m\u001b[39mOutput/\u001b[39m\u001b[39m'\u001b[39m, LOAEL\u001b[39m=\u001b[39m\u001b[39m54.5\u001b[39m, SOAEL\u001b[39m=\u001b[39m\u001b[39m67.5\u001b[39m, NLOAEL\u001b[39m=\u001b[39m\u001b[39m39.5\u001b[39m, NSOAEL\u001b[39m=\u001b[39m\u001b[39m54.5\u001b[39m)\n",
      "File \u001b[0;32m/workspaces/LA111/DMRBModule.py:4\u001b[0m\n\u001b[1;32m      1\u001b[0m \u001b[39m# issues / queries contact Ben Saunders (ben.saunders@wsp.com)\u001b[39;00m\n\u001b[1;32m      2\u001b[0m \u001b[39m# version 2.2020\u001b[39;00m\n\u001b[0;32m----> 4\u001b[0m \u001b[39mimport\u001b[39;00m \u001b[39mpandas\u001b[39;00m \u001b[39mas\u001b[39;00m \u001b[39mpd\u001b[39;00m\n\u001b[1;32m      5\u001b[0m pd\u001b[39m.\u001b[39moptions\u001b[39m.\u001b[39mmode\u001b[39m.\u001b[39mchained_assignment \u001b[39m=\u001b[39m \u001b[39mNone\u001b[39;00m\n\u001b[1;32m      6\u001b[0m \u001b[39mimport\u001b[39;00m \u001b[39mnumpy\u001b[39;00m \u001b[39mas\u001b[39;00m \u001b[39mnp\u001b[39;00m\n",
      "\u001b[0;31mModuleNotFoundError\u001b[0m: No module named 'pandas'"
     ]
    }
   ],
   "source": [
    "# DMRB LA111 Processing Tool instructions\n",
    "# 1. Copy building evaluation data into the template (with facade correction and TRL correction for night time)\n",
    "# 2. Put the template into the 'Input' folder\n",
    "# 3. Load the notebook and press 'Run' on the top bar with the cell highlighted. \n",
    "\n",
    "# Importing DMRB module:\n",
    "import DMRBModule as DMRB\n",
    "\n",
    "# Calling 'Main' function with parameters: input locaiton, output location, day and night LOAEL & SOAEL criteria:\n",
    "DMRB.Main('Input/', 'Output/', LOAEL=54.5, SOAEL=67.5, NLOAEL=39.5, NSOAEL=54.5)\n"
   ]
  }
 ],
 "metadata": {
  "kernelspec": {
   "display_name": "Python 3.8.15 64-bit",
   "language": "python",
   "name": "python3"
  },
  "language_info": {
   "codemirror_mode": {
    "name": "ipython",
    "version": 3
   },
   "file_extension": ".py",
   "mimetype": "text/x-python",
   "name": "python",
   "nbconvert_exporter": "python",
   "pygments_lexer": "ipython3",
   "version": "3.8.15"
  },
  "vscode": {
   "interpreter": {
    "hash": "949777d72b0d2535278d3dc13498b2535136f6dfe0678499012e853ee9abcab1"
   }
  }
 },
 "nbformat": 4,
 "nbformat_minor": 4
}
