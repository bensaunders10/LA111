{
 "cells": [
  {
   "cell_type": "code",
   "execution_count": 1,
   "metadata": {
    "scrolled": false
   },
   "outputs": [
    {
     "data": {
      "application/vnd.jupyter.widget-view+json": {
       "model_id": "44667ddafbaf4aad924ca9d08a6684ea",
       "version_major": 2,
       "version_minor": 0
      },
      "text/plain": [
       "Box(children=(HTML(value=\"<span style='color:red;font-size:16px'>DMRB LA111 Processing Tool</span>\"), Image(va…"
      ]
     },
     "metadata": {},
     "output_type": "display_data"
    },
    {
     "data": {
      "application/vnd.jupyter.widget-view+json": {
       "model_id": "2f6f2a43bb7744938653a1e8504dd602",
       "version_major": 2,
       "version_minor": 0
      },
      "text/plain": [
       "Box(children=(Box(children=(Label(value='Available files:'), VBox(children=(Checkbox(value=False, description=…"
      ]
     },
     "metadata": {},
     "output_type": "display_data"
    },
    {
     "data": {
      "application/vnd.jupyter.widget-view+json": {
       "model_id": "02266ad9d7a843e490c11355e67b3dac",
       "version_major": 2,
       "version_minor": 0
      },
      "text/plain": [
       "Box(children=(Box(children=(Label(value='LA111 table: '), VBox(children=(Checkbox(value=False, description='Sh…"
      ]
     },
     "metadata": {},
     "output_type": "display_data"
    },
    {
     "data": {
      "application/vnd.jupyter.widget-view+json": {
       "model_id": "49263afc02004098869f440590193740",
       "version_major": 2,
       "version_minor": 0
      },
      "text/plain": [
       "Button(description='Calculate', style=ButtonStyle())"
      ]
     },
     "metadata": {},
     "output_type": "display_data"
    },
    {
     "data": {
      "application/vnd.jupyter.widget-view+json": {
       "model_id": "cf3a6282ff6c4c58ab820070e4d8c0a5",
       "version_major": 2,
       "version_minor": 0
      },
      "text/plain": [
       "Output()"
      ]
     },
     "metadata": {},
     "output_type": "display_data"
    }
   ],
   "source": [
    "# DMRB LA111 Processing Tool instructions\n",
    "# 1. Copy building evaluation data into the template (with facade correction and TRL correction for night time)\n",
    "# 2. Put the template into the 'Input' folder\n",
    "# 3. Load the notebook and press 'Run' on the top bar with the cell highlighted. \n",
    "\n",
    "# Importing DMRB module:\n",
    "import DMRBModule as DMRB\n",
    "\n",
    "# Calling 'Main' function with parameters: input locaiton, output location, day and night LOAEL & SOAEL criteria:\n",
    "DMRB.Main('Input/', 'Output/', LOAEL=54.5, SOAEL=67.5, NLOAEL=39.5, NSOAEL=54.5)\n"
   ]
  }
 ],
 "metadata": {
  "kernelspec": {
   "display_name": "Python 3",
   "language": "python",
   "name": "python3"
  },
  "language_info": {
   "codemirror_mode": {
    "name": "ipython",
    "version": 3
   },
   "file_extension": ".py",
   "mimetype": "text/x-python",
   "name": "python",
   "nbconvert_exporter": "python",
   "pygments_lexer": "ipython3",
   "version": "3.7.7"
  }
 },
 "nbformat": 4,
 "nbformat_minor": 4
}
