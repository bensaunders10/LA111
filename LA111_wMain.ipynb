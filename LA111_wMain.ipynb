{
 "cells": [
  {
   "cell_type": "code",
   "execution_count": 2,
   "metadata": {
    "scrolled": false
   },
   "outputs": [
    {
     "data": {
      "application/vnd.jupyter.widget-view+json": {
       "model_id": "e1fb6d0134aa48ef9531adf010c82525",
       "version_major": 2,
       "version_minor": 0
      },
      "text/plain": [
       "Box(children=(HTML(value=\"<span style='color:red;font-size:16px'>DMRB LA111 Processing Tool</span>\"), Image(va…"
      ]
     },
     "metadata": {},
     "output_type": "display_data"
    },
    {
     "data": {
      "application/vnd.jupyter.widget-view+json": {
       "model_id": "cbd31ae7ce344ec4979d16cd1297c507",
       "version_major": 2,
       "version_minor": 0
      },
      "text/plain": [
       "Box(children=(Box(children=(Label(value='Available files:'), VBox(children=(Checkbox(value=False, description=…"
      ]
     },
     "metadata": {},
     "output_type": "display_data"
    },
    {
     "data": {
      "application/vnd.jupyter.widget-view+json": {
       "model_id": "b859e152896f47d9859cf97a9ec6a6a5",
       "version_major": 2,
       "version_minor": 0
      },
      "text/plain": [
       "Box(children=(Box(children=(Label(value='LA111 table: '), VBox(children=(Checkbox(value=False, description='Sh…"
      ]
     },
     "metadata": {},
     "output_type": "display_data"
    },
    {
     "data": {
      "application/vnd.jupyter.widget-view+json": {
       "model_id": "4b879542e6d04fe0b0b6dd3be62a452f",
       "version_major": 2,
       "version_minor": 0
      },
      "text/plain": [
       "Button(description='Calculate', style=ButtonStyle())"
      ]
     },
     "metadata": {},
     "output_type": "display_data"
    },
    {
     "data": {
      "application/vnd.jupyter.widget-view+json": {
       "model_id": "20851c815a344d5d9bd3e7758cb3e1a9",
       "version_major": 2,
       "version_minor": 0
      },
      "text/plain": [
       "Output()"
      ]
     },
     "metadata": {},
     "output_type": "display_data"
    }
   ],
   "source": [
    "from ipywidgets import Checkbox, Output, VBox, widgets, Layout, Box, Label, Image, HBox, HTML\n",
    "from IPython.display import display, display_html\n",
    "from os import listdir, mkdir, path\n",
    "from os.path import isfile, join\n",
    "import DMRBModule as DMRB\n",
    "\n",
    "inputloc= 'Input/'\n",
    "outputloc='Output/' \n",
    "LOAEL=55\n",
    "SOAEL=68\n",
    "NLOAEL=40\n",
    "NSOAEL=55\n",
    "\n",
    "out = Output()\n",
    "def on_button_clicked(b):\n",
    "    D, N, S, L, P, W, G = 0, 0, 0, 0, 0, 0, 0\n",
    "    Columns, OColumns = [], []\n",
    "    with out:\n",
    "        out.clear_output()\n",
    "        Fileoutput, val, D, N, S, L, P, W, G = DMRB.Selection(FileList, Day, Night, ST, LT, PS, WT, GS, D, N, S, L, P, W, G)            \n",
    "        if val == 1:\n",
    "            print('Error')\n",
    "        else:\n",
    "            fullpath = inputloc+Fileoutput[0]\n",
    "            Tab1 = DMRB.ExcelRead(fullpath)\n",
    "            Tab1, Columns, OColumns = DMRB.AddColumns(Tab1,D,N,S,L) # Columns(Input, Day, Night, ST, LT)\n",
    "            DMRB_ST, DMRB_LT, RelDF = DMRB.LBCGC(Tab1, Columns, OColumns, D, N, S, L) #LBCGC(Tab1, Columns, OColumns, D, N, ST, LT)\n",
    "            DMRB.DisplayDMRBTables(DMRB_ST, DMRB_LT, S, L)\n",
    "            AbsDF = DMRB.AbsOut(Tab1, RelDF, OColumns, LOAEL, SOAEL, NLOAEL, NSOAEL, outputloc, D, N, S, L, G, P)\n",
    "            WebTAG1, WebTAG2 = DMRB.WebTAG(AbsDF, OColumns, W)\n",
    "            DMRB.DisplayWebTAGTables(WebTAG1, WebTAG2, W)\n",
    "            print('\\n> Process complete')\n",
    "            \n",
    "Image = Image(value=open('wsp_RGB.jpg', 'rb').read())\n",
    "Image.layout.width = '10%'\n",
    "Image.layout.height = '10%'\n",
    "Image.layout.margin = '0 0 0 0'\n",
    "Image.layout.object_position = '50% 50%'\n",
    "Day = Checkbox(False, description='Day time')\n",
    "Night = Checkbox(False, description='Night time')\n",
    "ST = Checkbox(False, description='Short term')\n",
    "LT = Checkbox(False, description='Long term')\n",
    "WT = Checkbox(False, description='WebTAG')\n",
    "PS = Checkbox(False, description='Excel output')\n",
    "GS = Checkbox(False, description='Shapefile outputs')\n",
    "\n",
    "onlyfiles = [f for f in listdir(inputloc) if isfile(join(inputloc, f))]\n",
    "\n",
    "FileList = []\n",
    "for i, files in enumerate(onlyfiles):\n",
    "    FileList.append(Checkbox(False, description=files))\n",
    "\n",
    "form_item_layout = Layout(\n",
    "    display='flex',\n",
    "    flex_flow='row',\n",
    "    justify_content='space-between'\n",
    ")\n",
    "\n",
    "title = widgets.HTML(\n",
    "    value=\"<span style='color:red;font-size:16px'>DMRB LA111 Processing Tool</span>\"\n",
    ")\n",
    "wsp = Box([title, Image], layout=form_item_layout)\n",
    "\n",
    "form_items = [\n",
    "    Box([Label(value='Available files:'), VBox(FileList)], layout=form_item_layout),\n",
    "    Box([Label(value='Scenario:'), VBox([Day, Night])], layout=form_item_layout)\n",
    "]\n",
    "form_items2 = [\n",
    "    Box([Label(value='LA111 table: '), VBox([ST, LT])], layout=form_item_layout),\n",
    "    Box([Label(value='Processed data: '), VBox([PS])], layout=form_item_layout),\n",
    "    Box([Label(value='WebTAG: '), VBox([WT])], layout=form_item_layout),\n",
    "    Box([Label(value='GIS: '), VBox([GS])], layout=form_item_layout)\n",
    "]\n",
    "\n",
    "form = Box(form_items, layout=Layout(\n",
    "    display='flex',\n",
    "    flex_flow='column',\n",
    "    align_items='stretch',\n",
    "    width='50%'\n",
    "))\n",
    "form2 = Box(form_items2, layout=Layout(\n",
    "    display='flex',\n",
    "    flex_flow='column',\n",
    "    align_items='stretch',\n",
    "    width='50%'\n",
    "))\n",
    "\n",
    "display(wsp, form, form2)   \n",
    "button = widgets.Button(description=\"Calculate\")\n",
    "display(button)\n",
    "button.on_click(on_button_clicked)\n",
    "display(out)"
   ]
  },
  {
   "cell_type": "code",
   "execution_count": null,
   "metadata": {},
   "outputs": [],
   "source": []
  }
 ],
 "metadata": {
  "kernelspec": {
   "display_name": "Python 3",
   "language": "python",
   "name": "python3"
  },
  "language_info": {
   "codemirror_mode": {
    "name": "ipython",
    "version": 3
   },
   "file_extension": ".py",
   "mimetype": "text/x-python",
   "name": "python",
   "nbconvert_exporter": "python",
   "pygments_lexer": "ipython3",
   "version": "3.7.7"
  }
 },
 "nbformat": 4,
 "nbformat_minor": 4
}
